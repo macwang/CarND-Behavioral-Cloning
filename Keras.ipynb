{
 "cells": [
  {
   "cell_type": "code",
   "execution_count": null,
   "metadata": {
    "collapsed": false
   },
   "outputs": [],
   "source": [
    "import cv2\n",
    "import matplotlib.pyplot as plt\n",
    "import matplotlib.image as mpimg\n",
    "%matplotlib inline\n",
    "\n",
    "import numpy as np\n",
    "import pandas as pd\n",
    "\n",
    "\n",
    "from keras.models import Sequential\n",
    "from keras.layers import Dense\n",
    "from keras.layers.core import Flatten\n",
    "from keras.layers.convolutional import Convolution2D\n",
    "from keras.layers.pooling import MaxPooling2D"
   ]
  },
  {
   "cell_type": "code",
   "execution_count": null,
   "metadata": {
    "collapsed": false
   },
   "outputs": [],
   "source": [
    "# input 320x160, steering angle\n",
    "# NV paper, input 200x66, YUV\n",
    "# 200x100\n",
    "# 320x88\n",
    "\n",
    "model = Sequential()\n",
    "model.add(Convolution2D(24, 5, 5, border_mode='valid', activation='relu', subsample=(2, 2), input_shape=(66, 200, 3)))\n",
    "# model.add(MaxPooling2D(border_mode='same'))\n",
    "model.add(Convolution2D(36, 5, 5, border_mode='valid', activation='relu', subsample=(2, 2)))\n",
    "# model.add(MaxPooling2D(border_mode='same'))\n",
    "model.add(Convolution2D(48, 5, 5, border_mode='valid', activation='relu', subsample=(2, 2)))\n",
    "# model.add(MaxPooling2D(border_mode='same'))\n",
    "model.add(Convolution2D(64, 3, 3, border_mode='valid', activation='relu'))\n",
    "model.add(Convolution2D(64, 3, 3, border_mode='valid', activation='relu'))\n",
    "model.add(Flatten())\n",
    "# model.add(Dense(1164, activation='relu'))\n",
    "model.add(Dense(100, activation='relu'))\n",
    "model.add(Dense(50, activation='relu'))\n",
    "model.add(Dense(10, activation='relu'))\n",
    "model.add(Dense(1))\n",
    "model.compile('adam', 'mse')\n",
    "# model.summary()"
   ]
  },
  {
   "cell_type": "code",
   "execution_count": null,
   "metadata": {
    "collapsed": true
   },
   "outputs": [],
   "source": [
    "driving_log = pd.read_csv('data/driving_log.csv')\n",
    "num_of_sample = len(driving_log)\n"
   ]
  },
  {
   "cell_type": "code",
   "execution_count": null,
   "metadata": {
    "collapsed": false
   },
   "outputs": [],
   "source": [
    "def preprocessing(img):\n",
    "    # crop 160x320 ==> 99x300\n",
    "    img_tmp = img[41:139, 10:310, :]\n",
    "    # resize 99x300 ==> 66x200\n",
    "    img_tmp = cv2.resize(img_tmp, (200, 66))\n",
    "    # BGR2YUV\n",
    "    img_tmp = cv2.cvtColor(img_tmp, cv2.COLOR_BGR2YUV)\n",
    "    # normalize\n",
    "    img_tmp = img_tmp.astype(np.float32)\n",
    "    img_tmp = (img_tmp - 128) / 128\n",
    "    \n",
    "    return img_tmp"
   ]
  },
  {
   "cell_type": "code",
   "execution_count": null,
   "metadata": {
    "collapsed": true
   },
   "outputs": [],
   "source": [
    "def generate_arrays_from_file(batch_size=32):\n",
    "    while True:\n",
    "        X = []\n",
    "        y = []\n",
    "\n",
    "        for i in range(batch_size):\n",
    "            # select idx\n",
    "            idx = np.random.randint(0, num_of_sample)\n",
    "            # select camera, 0 center, 1 left, 2 right\n",
    "            camera = np.random.randint(0, 3)\n",
    "\n",
    "            filename = driving_log.iloc[idx][camera].strip()\n",
    "            steering = driving_log.iloc[idx]['steering']\n",
    "            if camera == 1:\n",
    "                steering -= 0.25\n",
    "            elif camera == 2:\n",
    "                steering += 0.25\n",
    "            img = cv2.imread('data/' + filename)\n",
    "            img = preprocessing(img)\n",
    "            # select mirror\n",
    "            if np.random.randint(0, 2) % 2 == 1:\n",
    "                img = img[:, ::-1, :]\n",
    "                steering *= -1\n",
    "\n",
    "            X.append(img)\n",
    "            y.append(steering)\n",
    "        assert len(X) == batch_size\n",
    "        yield np.array(X), np.array(y)"
   ]
  },
  {
   "cell_type": "code",
   "execution_count": null,
   "metadata": {
    "collapsed": false
   },
   "outputs": [],
   "source": [
    "history = model.fit_generator(generate_arrays_from_file(), 20000, 8)\n",
    "# model.fit_generator(generate_arrays_from_file('/my_file.txt'),\n",
    "#         samples_per_epoch=10000, nb_epoch=10)"
   ]
  },
  {
   "cell_type": "code",
   "execution_count": null,
   "metadata": {
    "collapsed": false
   },
   "outputs": [],
   "source": [
    "json_string = model.to_json()\n",
    "json.dump(json_string, 'model.json')\n",
    "model.save_weights('model.h5')"
   ]
  },
  {
   "cell_type": "code",
   "execution_count": null,
   "metadata": {
    "collapsed": false
   },
   "outputs": [],
   "source": [
    "c2 = preprocessing(cv2.imread('data/IMG/' + CENTER))"
   ]
  }
 ],
 "metadata": {
  "anaconda-cloud": {},
  "kernelspec": {
   "display_name": "Python [conda env:IntroToTensorFlow]",
   "language": "python",
   "name": "conda-env-IntroToTensorFlow-py"
  },
  "language_info": {
   "codemirror_mode": {
    "name": "ipython",
    "version": 3
   },
   "file_extension": ".py",
   "mimetype": "text/x-python",
   "name": "python",
   "nbconvert_exporter": "python",
   "pygments_lexer": "ipython3",
   "version": "3.5.3"
  }
 },
 "nbformat": 4,
 "nbformat_minor": 2
}
